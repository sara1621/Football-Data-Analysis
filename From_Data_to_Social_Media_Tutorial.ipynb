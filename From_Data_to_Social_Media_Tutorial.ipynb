{
 "cells": [
  {
   "cell_type": "markdown",
   "id": "3f7fb63c",
   "metadata": {},
   "source": [
    "# 🚀 From Data to Social Media (Python only)\n",
    "**Create a Football Visualization from Scratch Using Python**\n",
    "\n",
    "*A step-by-step tutorial to go from raw data to a shareable viz for social media (excluding Canva part)*"
   ]
  },
  {
   "cell_type": "markdown",
   "id": "30f7b075",
   "metadata": {},
   "source": [
    "## 🧩 1. Introduction\n",
    "- **Goal**: Learn how to transform raw football data into an insightful visualization using Python.\n",
    "- **Audience**: Beginners/intermediate in football analytics.\n",
    "- **Prerequisites**: Basic knowledge of pandas, matplotlib, and mplsoccer."
   ]
  },
  {
   "cell_type": "markdown",
   "id": "10d84dcf",
   "metadata": {},
   "source": [
    "## 📁 2. Load & Prepare Data"
   ]
  },
  {
   "cell_type": "code",
   "execution_count": null,
   "id": "2bede683-fd13-41a7-8b20-40ab1abb621b",
   "metadata": {},
   "outputs": [],
   "source": [
    "import pandas as pd\n",
    "\n",
    "# Load Wyscout-style CSV\n",
    "data = pd.read_csv(\"ali_abdi.csv\")\n",
    "\n",
    "# Keep only relevant columns (make sure your CSV contains them)\n",
    "data = data[['x', 'y', 'type', 'outcomeType', 'endX', 'endY', 'isShot', 'isGoal']]\n",
    "data.head()"
   ]
  },
  {
   "cell_type": "code",
   "execution_count": null,
   "id": "164ca37a",
   "metadata": {},
   "outputs": [],
   "source": [
    "# Check available event types (to know what we can work with)\n",
    "data['type'].unique()"
   ]
  },
  {
   "cell_type": "markdown",
   "id": "d365df92",
   "metadata": {},
   "source": [
    "## 🎯 3. Select Events to Display"
   ]
  },
  {
   "cell_type": "code",
   "execution_count": null,
   "id": "b6b4473d",
   "metadata": {},
   "outputs": [],
   "source": [
    "# Filter shots (isShot == True)\n",
    "shots = data[data['isShot'] == True]\n",
    "\n",
    "# Filter defensive actions\n",
    "def_events = ['Tackle', 'Clearance', 'Aerial', 'BallRecovery', 'BlockedPass', 'Save', 'Interception']\n",
    "def_data = data[data['type'].isin(def_events)]"
   ]
  },
  {
   "cell_type": "markdown",
   "id": "97f8ad65",
   "metadata": {},
   "source": [
    "## ⚽ 4. Categorize Shots (Saved, Missed, Goal)"
   ]
  },
  {
   "cell_type": "code",
   "execution_count": null,
   "id": "317e33d2",
   "metadata": {},
   "outputs": [],
   "source": [
    "# Use column `type` to separate shot outcomes\n",
    "goals = data[(data['isShot'] == True) & (data['type'] == 'Goal')]\n",
    "missed = data[(data['isShot'] == True) & (data['type'] == 'MissedShot')]\n",
    "saved = data[(data['isShot'] == True) & (data['type'] == 'SavedShot')]"
   ]
  },
  {
   "cell_type": "markdown",
   "id": "0ac02bbd",
   "metadata": {},
   "source": [
    "## 🖼️ 5. Create the Visualization"
   ]
  },
  {
   "cell_type": "code",
   "execution_count": null,
   "id": "f2143a5f",
   "metadata": {},
   "outputs": [],
   "source": [
    "from mplsoccer import VerticalPitch\n",
    "import matplotlib.pyplot as plt\n",
    "\n",
    "pitch = VerticalPitch(pitch_type='wyscout', half=True, pitch_color='white', line_color='black')\n",
    "fig, ax = pitch.draw()\n",
    "\n",
    "pitch.scatter(goals['x'], goals['y'], ax=ax, color='green', s=150, marker='*', label='Goals')\n",
    "pitch.scatter(saved['x'], saved['y'], ax=ax, color='orange', s=100, label='Saved')\n",
    "pitch.scatter(missed['x'], missed['y'], ax=ax, color='red', marker='x', s=100, label='Missed')\n",
    "\n",
    "ax.legend()\n",
    "plt.title(\"Ali Abdi – Shots Map\")"
   ]
  },
  {
   "cell_type": "markdown",
   "id": "f95b0357",
   "metadata": {},
   "source": [
    "## 💾 6. Save the Visualization"
   ]
  },
  {
   "cell_type": "code",
   "execution_count": null,
   "id": "ab048545",
   "metadata": {},
   "outputs": [],
   "source": [
    "plt.close()\n",
    "fig.set_facecolor('#F5F5F5')  # Optional background\n",
    "fig.savefig(\"ali_abdi_shots_map.png\", dpi=300, bbox_inches='tight')"
   ]
  },
  {
   "cell_type": "markdown",
   "id": "0cda68c0",
   "metadata": {},
   "source": [
    "## 📊 7. Bonus: Export Event Counts to Excel"
   ]
  },
  {
   "cell_type": "code",
   "execution_count": null,
   "id": "0cef7ca8",
   "metadata": {},
   "outputs": [],
   "source": [
    "# Count event types and export\n",
    "event_counts = data['type'].value_counts().reset_index()\n",
    "event_counts.columns = ['EventType', 'Count']\n",
    "event_counts.to_excel('event_summary.xlsx', index=False)"
   ]
  },
  {
   "cell_type": "markdown",
   "id": "d0293f86",
   "metadata": {},
   "source": [
    "## ✅ Conclusion\n",
    "- You now know how to go from raw data to a shareable visualization.\n",
    "- Try different event types, player roles, or match moments.\n",
    "- Export both your visuals and event data to share on social media or for club reports.\n"
   ]
  },
  {
   "cell_type": "markdown",
   "id": "fdf7af48-7e55-446a-9c41-d1188eb10bee",
   "metadata": {},
   "source": [
    "### 🏆 Challenge: Defensive Heatmap of Ali Abdi\n",
    "\n",
    "Now it's your turn!\n",
    "\n",
    "Using the `ali_def` dataframe, create a **heatmap** to visualize where Ali performed most of his **defensive actions** on the pitch.\n",
    "\n",
    "🎯 **Instructions:**\n",
    "- Use the `Pitch().kdeplot()` function from `mplsoccer`.\n",
    "- Focus only on defensive actions such as: `\"Tackle\"`, `\"Clearance\"`, `\"Aerial\"`, `\"BallRecovery\"`, `\"BlockedPass\"`, `\"Save\"`, `\"Interception\"`.\n",
    "- Choose a colormap you like (e.g., `cmap='coolwarm'`, `cmap='plasma'`, etc.).\n",
    "- Add appropriate titles and axis labels.\n",
    "\n",
    "📢 **Bonus Challenge:**  \n",
    "Post your heatmap on LinkedIn and tag me! I’ll feature some of your best visualizations on my profile 🙌  \n",
    "Let’s make your first football analytics project visible to the world 🌍\n",
    "\n",
    "Good luck, analysts! 🚀\n"
   ]
  }
 ],
 "metadata": {
  "kernelspec": {
   "display_name": "Python 3 (ipykernel)",
   "language": "python",
   "name": "python3"
  },
  "language_info": {
   "codemirror_mode": {
    "name": "ipython",
    "version": 3
   },
   "file_extension": ".py",
   "mimetype": "text/x-python",
   "name": "python",
   "nbconvert_exporter": "python",
   "pygments_lexer": "ipython3",
   "version": "3.12.7"
  }
 },
 "nbformat": 4,
 "nbformat_minor": 5
}
