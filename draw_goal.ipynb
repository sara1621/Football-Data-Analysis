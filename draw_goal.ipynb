{
 "cells": [
  {
   "cell_type": "code",
   "execution_count": 3,
   "id": "b2ce1ade-9fdb-4b22-b121-5054614bbe08",
   "metadata": {},
   "outputs": [],
   "source": [
    "import matplotlib.pyplot as plt\n",
    "import seaborn as sns\n",
    "import pandas as pd\n",
    "\n",
    "def plot_penalty_box(data):\n",
    "    \"\"\"\n",
    "    Crée un boxplot des positions des buts sur pénaltys (x, y de end_location).\n",
    "    \n",
    "    Args:\n",
    "        data (pd.DataFrame): Le DataFrame doit contenir une colonne 'end_location' avec [x, y, z].\n",
    "    \"\"\"\n",
    "    # Extraire les coordonnées x et y des end_locations\n",
    "    coords = data['end_location'].dropna().apply(lambda loc: pd.Series(loc[:2]))\n",
    "    coords.columns = ['x', 'y']\n",
    "\n",
    "    plt.figure(figsize=(6, 4))\n",
    "    sns.boxplot(x=coords['x'], y=coords['y'])\n",
    "    plt.title('Boxplot of Penalty Goal Locations')\n",
    "    plt.xlabel('X position')\n",
    "    plt.ylabel('Y position')\n",
    "    plt.grid(True)\n",
    "    plt.show()\n"
   ]
  },
  {
   "cell_type": "code",
   "execution_count": null,
   "id": "c8986cf8-8dc7-405f-bbd4-e111919d3723",
   "metadata": {},
   "outputs": [],
   "source": []
  }
 ],
 "metadata": {
  "kernelspec": {
   "display_name": "Python 3 (ipykernel)",
   "language": "python",
   "name": "python3"
  },
  "language_info": {
   "codemirror_mode": {
    "name": "ipython",
    "version": 3
   },
   "file_extension": ".py",
   "mimetype": "text/x-python",
   "name": "python",
   "nbconvert_exporter": "python",
   "pygments_lexer": "ipython3",
   "version": "3.12.7"
  }
 },
 "nbformat": 4,
 "nbformat_minor": 5
}
