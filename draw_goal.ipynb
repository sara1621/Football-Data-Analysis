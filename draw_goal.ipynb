{
 "cells": [
  {
   "cell_type": "code",
   "execution_count": 1,
   "id": "b2ce1ade-9fdb-4b22-b121-5054614bbe08",
   "metadata": {},
   "outputs": [
    {
     "name": "stderr",
     "output_type": "stream",
     "text": [
      "C:\\Users\\PC\\AppData\\Local\\Temp\\ipykernel_32424\\2648006142.py:30: UserWarning: You passed a edgecolor/edgecolors ('white') for an unfilled marker ('x').  Matplotlib is ignoring the edgecolor in favor of the facecolor.  This behavior may change in the future.\n",
      "  ax.scatter(row['end_location_y'], row['end_location_z'],  # Coordinates of the shot\n"
     ]
    },
    {
     "data": {
      "image/png": "[encoded data removed]",
      "text/plain": [
       "<Figure size 800x500 with 1 Axes>"
      ]
     },
     "metadata": {},
     "output_type": "display_data"
    }
   ],
   "source": [
    "from goal_plot import draw_goal              # Import the goal drawing function from the goal_plot package\n",
    "import pandas as pd                         # Import pandas for data manipulation\n",
    "import matplotlib.pyplot as plt             # Import matplotlib for plotting\n",
    "\n",
    "# 🔹 Load your own shot data here\n",
    "df = pd.read_csv('my_data.csv')             # Load your dataset (replace 'my_data.csv' with your file)\n",
    "df_penalty = df[df['penalty'] == True]      # Filter only penalty shots\n",
    "df_penalty[['end_location_x', 'end_location_y', 'end_location_z', 'outcome_name']]  # Focus on needed columns\n",
    "df_clean = df_penalty.dropna(subset=['end_location_y', 'end_location_z'])  # Remove shots with missing end location\n",
    "\n",
    "# 🔹 Create the figure and axis with dark background\n",
    "fig, ax = plt.subplots(figsize=(8, 5))      # Create the matplotlib figure and axis\n",
    "fig.patch.set_facecolor('#2d3436')          # Set background color for the figure\n",
    "ax.set_facecolor('#2d3436')                 # Set background color for the plot\n",
    "\n",
    "# 🔹 Draw the goal\n",
    "draw_goal(ax)                               # Use the draw_goal function from goal_plot\n",
    "\n",
    "# 🔹 Plot each penalty shot as a scatter point\n",
    "for i, row in df_clean.iterrows():          # Loop through each clean penalty shot\n",
    "    color = '#00b4db' if row['outcome_name'] == 'Goal' else '#ff4444'  # Blue for goal, red for miss\n",
    "    if row['outcome_name'] == 'Goal':\n",
    "        marker = \"o\"                        # Use a circle for goals\n",
    "        size = 100                          # Size of the point\n",
    "    else:\n",
    "        marker = 'x'                        # Use an X for missed shots\n",
    "        size = 100\n",
    "    \n",
    "    # Scatter plot for each shot\n",
    "    ax.scatter(row['end_location_y'], row['end_location_z'],  # Coordinates of the shot\n",
    "               marker=marker, s=size, color=color, alpha=0.7,  # Style\n",
    "               edgecolor='white')                              # White border for better visibility\n",
    "\n",
    "# 🔹 Save and display the final plot\n",
    "plt.savefig('goal_draw.png')                # Save the figure as an image\n",
    "plt.show()                                  # Display the plot\n"
   ]
  },
  {
   "cell_type": "code",
   "execution_count": null,
   "id": "c8986cf8-8dc7-405f-bbd4-e111919d3723",
   "metadata": {},
   "outputs": [],
   "source": []
  }
 ],
 "metadata": {
  "kernelspec": {
   "display_name": "Python 3 (ipykernel)",
   "language": "python",
   "name": "python3"
  },
  "language_info": {
   "codemirror_mode": {
    "name": "ipython",
    "version": 3
   },
   "file_extension": ".py",
   "mimetype": "text/x-python",
   "name": "python",
   "nbconvert_exporter": "python",
   "pygments_lexer": "ipython3",
   "version": "3.12.7"
  }
 },
 "nbformat": 4,
 "nbformat_minor": 5
}
